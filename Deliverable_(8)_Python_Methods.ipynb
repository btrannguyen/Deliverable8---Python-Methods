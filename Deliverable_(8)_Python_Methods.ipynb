{
  "nbformat": 4,
  "nbformat_minor": 0,
  "metadata": {
    "colab": {
      "provenance": []
    },
    "kernelspec": {
      "name": "python3",
      "display_name": "Python 3"
    },
    "language_info": {
      "name": "python"
    }
  },
  "cells": [
    {
      "cell_type": "code",
      "execution_count": 30,
      "metadata": {
        "id": "_B1pziovXN7W"
      },
      "outputs": [],
      "source": [
        "import numpy as np"
      ]
    },
    {
      "cell_type": "code",
      "source": [
        "def random_list (size) :\n",
        "  list = []\n",
        "  for i in range(size):\n",
        "    list.append(np.random.randint(10,50))\n",
        "  return list\n",
        "\n",
        "# def sum_random (list):\n",
        "  #sum = sum(list)\n",
        "  #return sum or\n",
        "\n",
        "def sum_random(list):\n",
        "  sum = 0\n",
        "  for i in range(len(list)) :\n",
        "    sum = sum + list[i]\n",
        "  return sum\n"
      ],
      "metadata": {
        "id": "ZEqk-eTKhYhV"
      },
      "execution_count": 31,
      "outputs": []
    },
    {
      "cell_type": "code",
      "source": [
        "n = int(input(\"Enter an integer number between 5 and 15: \"))\n",
        "\n",
        "while True:\n",
        "  if n >= 5 and n <= 15:\n",
        "    break\n",
        "  else:\n",
        "    print(\"Try a different number\")\n",
        "    n = int(input(\"Enter an integer number between 5 and 15 \"))"
      ],
      "metadata": {
        "colab": {
          "base_uri": "https://localhost:8080/"
        },
        "id": "oEgMO6i4jg46",
        "outputId": "e98060ad-d9c6-4680-db54-272dc48f1751"
      },
      "execution_count": 34,
      "outputs": [
        {
          "name": "stdout",
          "output_type": "stream",
          "text": [
            "Enter an integer number between 5 and 15: 4\n",
            "Try a different number\n",
            "Enter an integer number between 5 and 15 17\n",
            "Try a different number\n",
            "Enter an integer number between 5 and 15 6\n"
          ]
        }
      ]
    },
    {
      "cell_type": "code",
      "source": [
        "MyList = random_list(n)\n",
        "print(\"The elements of the arrays are: \", MyList) \n",
        "MySum = sum_random(MyList)  \n",
        "print(\"The sum is: \", MySum)"
      ],
      "metadata": {
        "colab": {
          "base_uri": "https://localhost:8080/"
        },
        "id": "eRF0FXJLjo8Q",
        "outputId": "c57ff438-788d-44c2-a248-8b68dc29c683"
      },
      "execution_count": 35,
      "outputs": [
        {
          "output_type": "stream",
          "name": "stdout",
          "text": [
            "The elements of the arrays are:  [17, 46, 45, 41, 44, 29]\n",
            "The sum is:  222\n"
          ]
        }
      ]
    }
  ]
}